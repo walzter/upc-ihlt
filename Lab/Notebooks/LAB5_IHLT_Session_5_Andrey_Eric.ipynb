{
  "cells": [
    {
      "cell_type": "markdown",
      "metadata": {
        "id": "Ey52XasPkYD3"
      },
      "source": [
        "## Imports"
      ]
    },
    {
      "cell_type": "code",
      "execution_count": 93,
      "metadata": {
        "id": "xg-33eLy8LgE"
      },
      "outputs": [],
      "source": [
        "#imports\n",
        "import nltk\n",
        "from nltk.corpus import wordnet_ic\n",
        "from nltk.corpus import wordnet as wn\n",
        "import pandas as pd\n",
        "import itertools\n",
        "import seaborn as sns\n",
        "import matplotlib.pyplot as plt"
      ]
    },
    {
      "cell_type": "code",
      "execution_count": 55,
      "metadata": {
        "colab": {
          "base_uri": "https://localhost:8080/"
        },
        "id": "J-MRT5VGKua1",
        "outputId": "c83098b7-df67-4737-963b-28dc585121e7"
      },
      "outputs": [
        {
          "name": "stdout",
          "output_type": "stream",
          "text": [
            "[nltk_data] Downloading package wordnet to /root/nltk_data...\n",
            "[nltk_data]   Package wordnet is already up-to-date!\n",
            "[nltk_data] Downloading package wordnet_ic to /root/nltk_data...\n",
            "[nltk_data]   Package wordnet_ic is already up-to-date!\n"
          ]
        },
        {
          "data": {
            "text/plain": [
              "True"
            ]
          },
          "execution_count": 55,
          "metadata": {},
          "output_type": "execute_result"
        }
      ],
      "source": [
        "#corpus and IC\n",
        "nltk.download('wordnet')\n",
        "nltk.download('wordnet_ic')"
      ]
    },
    {
      "cell_type": "markdown",
      "metadata": {
        "id": "tl1808f_kfXR"
      },
      "source": [
        "## Functions"
      ]
    },
    {
      "cell_type": "code",
      "execution_count": 31,
      "metadata": {
        "id": "5DP5hhUVIeEY"
      },
      "outputs": [],
      "source": [
        "# Mapping of Stanford POS-tag to WordNet type\n",
        "#thanks to pywsd ! \n",
        "#https://github.com/alvations\n",
        "\n",
        "def penn2morphy(penntag, returnNone=False):\n",
        "    morphy_tag = {'NN':wn.NOUN, 'JJ':wn.ADJ,\n",
        "                  'VB':wn.VERB, 'RB':wn.ADV}\n",
        "    try:\n",
        "        return morphy_tag[penntag[:2]]\n",
        "    except:\n",
        "        return None if returnNone else ''"
      ]
    },
    {
      "cell_type": "code",
      "execution_count": 32,
      "metadata": {
        "id": "W64p5lggLubG"
      },
      "outputs": [],
      "source": [
        "def get_synsets(list_of_tup):\n",
        "  syns =[]\n",
        "  d = dict()\n",
        "  for x in list_of_tup: \n",
        "    try:\n",
        "      y = wn.synsets(x[0],pos=penn2morphy(x[1])) #POS TAG IS ANNOYING\n",
        "      if len(y)> 0: \n",
        "        syns.append(y[0])\n",
        "        d[x[0]] = y\n",
        "      else:\n",
        "        pass\n",
        "    except: \n",
        "      pass\n",
        "  \n",
        "\n",
        "  return syns,d"
      ]
    },
    {
      "cell_type": "code",
      "execution_count": 1,
      "metadata": {
        "id": "1O0pxoPFegt6"
      },
      "outputs": [],
      "source": [
        "# function that converts tuple to string\n",
        "def join_tuple_string(strings_tuple) -> str:\n",
        "   return '-'.join(strings_tuple)"
      ]
    },
    {
      "cell_type": "code",
      "execution_count": 34,
      "metadata": {
        "id": "GLOLO7GqbC3y"
      },
      "outputs": [],
      "source": [
        "def key_value_tuple_list_comb(d):\n",
        "  # all combinations of keys\n",
        "  key_list_tuples = list(itertools.combinations(d.keys(), 2))\n",
        "\n",
        "  # all combinations of values\n",
        "  # adjust for dicts of lists \n",
        "  dd = sum([x for x in d.values()],[]) #condensing\n",
        "  dd = [x.name() for x in dd]\n",
        "  values_list_tuples = list(itertools.combinations(dd,2))\n",
        "\n",
        "  # joining all the tuples\n",
        "  result = list(map(join_tuple_string, key_list_tuples))\n",
        "  result2 = list(map(join_tuple_string, values_list_tuples))\n",
        "\n",
        "  return result, result2, key_list_tuples,values_list_tuples"
      ]
    },
    {
      "cell_type": "code",
      "execution_count": 35,
      "metadata": {
        "id": "FDB_ENTaI8K8"
      },
      "outputs": [],
      "source": [
        "def get_similarities(word1, word2,brown_ic):\n",
        "\n",
        "  '''\n",
        "  input --> Word1, Word2\n",
        "  Output --> dict of similarities \n",
        "\n",
        "  '''\n",
        "  simil_dict = dict()\n",
        "\n",
        "  def path_sim(word1,word2): \n",
        "    return word1.path_similarity(word2)\n",
        "  def lch_sim(word1,word2): \n",
        "    return word1.lch_similarity(word2)\n",
        "  def wup_sim(word1,word2): \n",
        "    return word1.wup_similarity(word2)\n",
        "  def lin_sim(word1,word2,brown_ic): \n",
        "    '''\n",
        "    needs information content (IC) of LCS (least common subsumer)\n",
        "    '''\n",
        "    return word1.lin_similarity(word2,brown_ic)\n",
        "\n",
        "  simil_dict['PATH_SIMIL'] = path_sim(word1,word2)\n",
        "  simil_dict['LCH_SIMIL'] = lch_sim(word1,word2)\n",
        "  simil_dict['WUP_SIMIL'] = wup_sim(word1,word2)\n",
        "  simil_dict['LIN_SIMIL'] = lin_sim(word1,word2,brown_ic)\n",
        "\n",
        "  return simil_dict"
      ]
    },
    {
      "cell_type": "code",
      "execution_count": 36,
      "metadata": {
        "id": "0ALrj3apgtny"
      },
      "outputs": [],
      "source": [
        "def conv_synset(x):\n",
        "  return wn.synset(x)"
      ]
    },
    {
      "cell_type": "code",
      "execution_count": 37,
      "metadata": {
        "id": "FjjDZ2hGf536"
      },
      "outputs": [],
      "source": [
        "def get_LCS(list_of_tuple_values):\n",
        "\n",
        "  LCS = []\n",
        "\n",
        "  for x in list_of_tuple_values:\n",
        "    word1 = conv_synset(x[0])\n",
        "    word2 = conv_synset(x[1])\n",
        "    lcs = word1.lowest_common_hypernyms(word2)\n",
        "    if len(lcs) !=0:\n",
        "      LCS.append(lcs)\n",
        "    else: \n",
        "      LCS.append(0)\n",
        "    \n",
        "  return LCS"
      ]
    },
    {
      "cell_type": "code",
      "execution_count": 38,
      "metadata": {
        "id": "0IOaOlKSjeem"
      },
      "outputs": [],
      "source": [
        "def  final_df(results_2, list_of_tuples):\n",
        "\n",
        "  df1 = pd.DataFrame({\"Combination\":result2})\n",
        "  df1['LCS'] = get_LCS(values_list_tuples)\n",
        "  #filtering\n",
        "  df2 = df1.copy()\n",
        "  mask = df2['LCS'] == 0\n",
        "  df2_mask = df2[~mask]\n",
        "  diff = df2.shape[0] - df2_mask.shape[0]\n",
        "\n",
        "  # splitting\n",
        "  df2_mask['SynsetA'] = df2_mask.Combination.apply(lambda x: x.split('-')[0])\n",
        "  df2_mask['SynsetB'] = df2_mask.Combination.apply(lambda x: x.split('-')[1])\n",
        "  df2_mask['WordA'] = df2_mask.Combination.apply(lambda x: x.split('-')[0])\n",
        "  df2_mask['WordA'] = df2_mask.Combination.apply(lambda x: x.split('.')[0])\n",
        "  df2_mask['WordB'] = df2_mask.Combination.apply(lambda x: x.split('-')[1])\n",
        "  df2_mask['WordB'] = df2_mask.Combination.apply(lambda x: x.split('.')[0])\n",
        "  #applying type\n",
        "  df2_mask['SynsetA'] = df2_mask['SynsetA'].apply(lambda x: wn.synset(x))\n",
        "  df2_mask['SynsetB'] = df2_mask['SynsetB'].apply(lambda x: wn.synset(x))\n",
        "\n",
        "  ## DataFrame to merge\n",
        "  li = []\n",
        "  synsa = list(df2_mask['SynsetA'].values)\n",
        "  synsb = list(df2_mask['SynsetB'].values)\n",
        "  synsz = list(zip(synsa,synsb))\n",
        "\n",
        "  for x in synsz:\n",
        "    vals = get_similarities(x[0],x[1],brown_ic)\n",
        "    li.append(vals)\n",
        "  \n",
        "\n",
        "\n",
        "  df3 = pd.DataFrame(li)\n",
        "  dfinal = pd.concat([df2_mask,df3],axis=1)\n",
        "  #cleaning\n",
        "  dfinal = dfinal.drop(['SynsetA','SynsetB'],axis=1)\n",
        "  mask_2 = dfinal['LCS'] == 0\n",
        "  df_final = dfinal[~mask]\n",
        "  df_final['LCS'] = df_final['LCS'].apply(lambda x: x[0].name())\n",
        "  #df_final = df_final.dropna(axis=0)\n",
        "\n",
        "\n",
        "  return df_final"
      ]
    },
    {
      "cell_type": "markdown",
      "metadata": {
        "id": "91OaVI4Jkwjk"
      },
      "source": [
        "## Work"
      ]
    },
    {
      "cell_type": "code",
      "execution_count": 39,
      "metadata": {
        "id": "P942fvFRKheO"
      },
      "outputs": [],
      "source": [
        "#Setting the information content for LCS\n",
        "brown_ic = wordnet_ic.ic('ic-brown.dat')"
      ]
    },
    {
      "cell_type": "code",
      "execution_count": 40,
      "metadata": {
        "id": "Tj5BqiIxUyJp"
      },
      "outputs": [],
      "source": [
        "#selected word pairs with POS (word,POS)\n",
        "word_pairs = [('the','DT'), ('man','NN'), ('swim','VB'), ('with', 'PR'), ('a', 'DT'),\n",
        "('girl','NN'), ('and', 'CC'), ('a', 'DT'), ('boy', 'NN'), ('whilst', 'PR'),\n",
        "('the', 'DT'), ('woman', 'NN'), ('walk', 'VB')]"
      ]
    },
    {
      "cell_type": "code",
      "execution_count": 41,
      "metadata": {
        "id": "CypPUOOpUB5o"
      },
      "outputs": [],
      "source": [
        "# all synsets\n",
        "a,d = get_synsets(word_pairs)"
      ]
    },
    {
      "cell_type": "code",
      "execution_count": 42,
      "metadata": {
        "id": "BuVl1TfCi7WW"
      },
      "outputs": [],
      "source": [
        "result1, result2, key_list_tuples,values_list_tuples = key_value_tuple_list_comb(d)"
      ]
    },
    {
      "cell_type": "code",
      "execution_count": 44,
      "metadata": {
        "colab": {
          "base_uri": "https://localhost:8080/"
        },
        "id": "DxicDlNSmU7B",
        "outputId": "1c9e2922-eba4-49cd-8948-eec3d625cce5"
      },
      "outputs": [
        {
          "name": "stderr",
          "output_type": "stream",
          "text": [
            "/usr/local/lib/python3.7/dist-packages/ipykernel_launcher.py:12: SettingWithCopyWarning: \n",
            "A value is trying to be set on a copy of a slice from a DataFrame.\n",
            "Try using .loc[row_indexer,col_indexer] = value instead\n",
            "\n",
            "See the caveats in the documentation: https://pandas.pydata.org/pandas-docs/stable/user_guide/indexing.html#returning-a-view-versus-a-copy\n",
            "  if sys.path[0] == '':\n",
            "/usr/local/lib/python3.7/dist-packages/ipykernel_launcher.py:13: SettingWithCopyWarning: \n",
            "A value is trying to be set on a copy of a slice from a DataFrame.\n",
            "Try using .loc[row_indexer,col_indexer] = value instead\n",
            "\n",
            "See the caveats in the documentation: https://pandas.pydata.org/pandas-docs/stable/user_guide/indexing.html#returning-a-view-versus-a-copy\n",
            "  del sys.path[0]\n",
            "/usr/local/lib/python3.7/dist-packages/ipykernel_launcher.py:14: SettingWithCopyWarning: \n",
            "A value is trying to be set on a copy of a slice from a DataFrame.\n",
            "Try using .loc[row_indexer,col_indexer] = value instead\n",
            "\n",
            "See the caveats in the documentation: https://pandas.pydata.org/pandas-docs/stable/user_guide/indexing.html#returning-a-view-versus-a-copy\n",
            "  \n",
            "/usr/local/lib/python3.7/dist-packages/ipykernel_launcher.py:15: SettingWithCopyWarning: \n",
            "A value is trying to be set on a copy of a slice from a DataFrame.\n",
            "Try using .loc[row_indexer,col_indexer] = value instead\n",
            "\n",
            "See the caveats in the documentation: https://pandas.pydata.org/pandas-docs/stable/user_guide/indexing.html#returning-a-view-versus-a-copy\n",
            "  from ipykernel import kernelapp as app\n",
            "/usr/local/lib/python3.7/dist-packages/ipykernel_launcher.py:16: SettingWithCopyWarning: \n",
            "A value is trying to be set on a copy of a slice from a DataFrame.\n",
            "Try using .loc[row_indexer,col_indexer] = value instead\n",
            "\n",
            "See the caveats in the documentation: https://pandas.pydata.org/pandas-docs/stable/user_guide/indexing.html#returning-a-view-versus-a-copy\n",
            "  app.launch_new_instance()\n",
            "/usr/local/lib/python3.7/dist-packages/ipykernel_launcher.py:17: SettingWithCopyWarning: \n",
            "A value is trying to be set on a copy of a slice from a DataFrame.\n",
            "Try using .loc[row_indexer,col_indexer] = value instead\n",
            "\n",
            "See the caveats in the documentation: https://pandas.pydata.org/pandas-docs/stable/user_guide/indexing.html#returning-a-view-versus-a-copy\n",
            "/usr/local/lib/python3.7/dist-packages/ipykernel_launcher.py:19: SettingWithCopyWarning: \n",
            "A value is trying to be set on a copy of a slice from a DataFrame.\n",
            "Try using .loc[row_indexer,col_indexer] = value instead\n",
            "\n",
            "See the caveats in the documentation: https://pandas.pydata.org/pandas-docs/stable/user_guide/indexing.html#returning-a-view-versus-a-copy\n",
            "/usr/local/lib/python3.7/dist-packages/ipykernel_launcher.py:20: SettingWithCopyWarning: \n",
            "A value is trying to be set on a copy of a slice from a DataFrame.\n",
            "Try using .loc[row_indexer,col_indexer] = value instead\n",
            "\n",
            "See the caveats in the documentation: https://pandas.pydata.org/pandas-docs/stable/user_guide/indexing.html#returning-a-view-versus-a-copy\n",
            "/usr/local/lib/python3.7/dist-packages/ipykernel_launcher.py:39: UserWarning: Boolean Series key will be reindexed to match DataFrame index.\n",
            "/usr/local/lib/python3.7/dist-packages/ipykernel_launcher.py:40: SettingWithCopyWarning: \n",
            "A value is trying to be set on a copy of a slice from a DataFrame.\n",
            "Try using .loc[row_indexer,col_indexer] = value instead\n",
            "\n",
            "See the caveats in the documentation: https://pandas.pydata.org/pandas-docs/stable/user_guide/indexing.html#returning-a-view-versus-a-copy\n"
          ]
        }
      ],
      "source": [
        "final_df = final_df(result2,values_list_tuples)"
      ]
    },
    {
      "cell_type": "code",
      "execution_count": 45,
      "metadata": {
        "id": "AdXj0750fWDR"
      },
      "outputs": [],
      "source": [
        "final_df = final_df.fillna(0)\n",
        "final_df=final_df[final_df['PATH_SIMIL']>0]"
      ]
    },
    {
      "cell_type": "code",
      "execution_count": 46,
      "metadata": {
        "colab": {
          "base_uri": "https://localhost:8080/",
          "height": 1000
        },
        "id": "HfC_q-mCoSoJ",
        "outputId": "552a3a8a-d5d4-4411-fe49-ec70b6eab6e2"
      },
      "outputs": [
        {
          "data": {
            "text/html": [
              "<div>\n",
              "<style scoped>\n",
              "    .dataframe tbody tr th:only-of-type {\n",
              "        vertical-align: middle;\n",
              "    }\n",
              "\n",
              "    .dataframe tbody tr th {\n",
              "        vertical-align: top;\n",
              "    }\n",
              "\n",
              "    .dataframe thead th {\n",
              "        text-align: right;\n",
              "    }\n",
              "</style>\n",
              "<table border=\"1\" class=\"dataframe\">\n",
              "  <thead>\n",
              "    <tr style=\"text-align: right;\">\n",
              "      <th></th>\n",
              "      <th></th>\n",
              "      <th>PATH_SIMIL</th>\n",
              "      <th>LCH_SIMIL</th>\n",
              "      <th>WUP_SIMIL</th>\n",
              "      <th>LIN_SIMIL</th>\n",
              "    </tr>\n",
              "    <tr>\n",
              "      <th>WordA</th>\n",
              "      <th>LCS</th>\n",
              "      <th></th>\n",
              "      <th></th>\n",
              "      <th></th>\n",
              "      <th></th>\n",
              "    </tr>\n",
              "  </thead>\n",
              "  <tbody>\n",
              "    <tr>\n",
              "      <th rowspan=\"5\" valign=\"top\">homo</th>\n",
              "      <th>entity.n.01</th>\n",
              "      <td>0.125000</td>\n",
              "      <td>1.558145</td>\n",
              "      <td>0.571429</td>\n",
              "      <td>0.304235</td>\n",
              "    </tr>\n",
              "    <tr>\n",
              "      <th>homo.n.02</th>\n",
              "      <td>0.250000</td>\n",
              "      <td>2.251292</td>\n",
              "      <td>0.631579</td>\n",
              "      <td>0.726047</td>\n",
              "    </tr>\n",
              "    <tr>\n",
              "      <th>object.n.01</th>\n",
              "      <td>0.333333</td>\n",
              "      <td>2.538974</td>\n",
              "      <td>0.666667</td>\n",
              "      <td>0.697863</td>\n",
              "    </tr>\n",
              "    <tr>\n",
              "      <th>organism.n.01</th>\n",
              "      <td>0.136781</td>\n",
              "      <td>1.616087</td>\n",
              "      <td>0.569290</td>\n",
              "      <td>0.298239</td>\n",
              "    </tr>\n",
              "    <tr>\n",
              "      <th>whole.n.02</th>\n",
              "      <td>0.250000</td>\n",
              "      <td>2.251292</td>\n",
              "      <td>0.631579</td>\n",
              "      <td>0.694358</td>\n",
              "    </tr>\n",
              "    <tr>\n",
              "      <th rowspan=\"9\" valign=\"top\">man</th>\n",
              "      <th>adult.n.01</th>\n",
              "      <td>0.269231</td>\n",
              "      <td>2.172390</td>\n",
              "      <td>0.683333</td>\n",
              "      <td>0.685042</td>\n",
              "    </tr>\n",
              "    <tr>\n",
              "      <th>entity.n.01</th>\n",
              "      <td>0.153098</td>\n",
              "      <td>1.555345</td>\n",
              "      <td>0.422274</td>\n",
              "      <td>0.394593</td>\n",
              "    </tr>\n",
              "    <tr>\n",
              "      <th>male.n.02</th>\n",
              "      <td>0.182330</td>\n",
              "      <td>1.776265</td>\n",
              "      <td>0.500683</td>\n",
              "      <td>0.361565</td>\n",
              "    </tr>\n",
              "    <tr>\n",
              "      <th>man.n.01</th>\n",
              "      <td>0.155556</td>\n",
              "      <td>1.734255</td>\n",
              "      <td>0.606061</td>\n",
              "      <td>0.342819</td>\n",
              "    </tr>\n",
              "    <tr>\n",
              "      <th>object.n.01</th>\n",
              "      <td>0.138202</td>\n",
              "      <td>1.551091</td>\n",
              "      <td>0.457789</td>\n",
              "      <td>0.292214</td>\n",
              "    </tr>\n",
              "    <tr>\n",
              "      <th>organism.n.01</th>\n",
              "      <td>0.125161</td>\n",
              "      <td>1.442332</td>\n",
              "      <td>0.494530</td>\n",
              "      <td>0.399096</td>\n",
              "    </tr>\n",
              "    <tr>\n",
              "      <th>person.n.01</th>\n",
              "      <td>0.164511</td>\n",
              "      <td>1.672321</td>\n",
              "      <td>0.530986</td>\n",
              "      <td>0.365148</td>\n",
              "    </tr>\n",
              "    <tr>\n",
              "      <th>whole.n.02</th>\n",
              "      <td>0.146900</td>\n",
              "      <td>1.548889</td>\n",
              "      <td>0.514248</td>\n",
              "      <td>0.459608</td>\n",
              "    </tr>\n",
              "    <tr>\n",
              "      <th>worker.n.01</th>\n",
              "      <td>0.138889</td>\n",
              "      <td>1.643094</td>\n",
              "      <td>0.530075</td>\n",
              "      <td>0.235190</td>\n",
              "    </tr>\n",
              "    <tr>\n",
              "      <th rowspan=\"6\" valign=\"top\">serviceman</th>\n",
              "      <th>entity.n.01</th>\n",
              "      <td>0.125000</td>\n",
              "      <td>1.558145</td>\n",
              "      <td>0.571429</td>\n",
              "      <td>0.304943</td>\n",
              "    </tr>\n",
              "    <tr>\n",
              "      <th>object.n.01</th>\n",
              "      <td>0.083333</td>\n",
              "      <td>1.152680</td>\n",
              "      <td>0.153846</td>\n",
              "      <td>0.000000</td>\n",
              "    </tr>\n",
              "    <tr>\n",
              "      <th>organism.n.01</th>\n",
              "      <td>0.154762</td>\n",
              "      <td>1.768751</td>\n",
              "      <td>0.615789</td>\n",
              "      <td>0.340567</td>\n",
              "    </tr>\n",
              "    <tr>\n",
              "      <th>person.n.01</th>\n",
              "      <td>0.197109</td>\n",
              "      <td>1.987703</td>\n",
              "      <td>0.651593</td>\n",
              "      <td>0.342841</td>\n",
              "    </tr>\n",
              "    <tr>\n",
              "      <th>whole.n.02</th>\n",
              "      <td>0.090909</td>\n",
              "      <td>1.239691</td>\n",
              "      <td>0.545455</td>\n",
              "      <td>0.346887</td>\n",
              "    </tr>\n",
              "    <tr>\n",
              "      <th>worker.n.01</th>\n",
              "      <td>0.186508</td>\n",
              "      <td>1.929598</td>\n",
              "      <td>0.645820</td>\n",
              "      <td>0.319284</td>\n",
              "    </tr>\n",
              "    <tr>\n",
              "      <th rowspan=\"6\" valign=\"top\">valet</th>\n",
              "      <th>entity.n.01</th>\n",
              "      <td>0.166667</td>\n",
              "      <td>1.845827</td>\n",
              "      <td>0.631579</td>\n",
              "      <td>0.285906</td>\n",
              "    </tr>\n",
              "    <tr>\n",
              "      <th>object.n.01</th>\n",
              "      <td>0.200000</td>\n",
              "      <td>1.648659</td>\n",
              "      <td>0.250000</td>\n",
              "      <td>0.374594</td>\n",
              "    </tr>\n",
              "    <tr>\n",
              "      <th>organism.n.01</th>\n",
              "      <td>0.333333</td>\n",
              "      <td>2.159484</td>\n",
              "      <td>0.333333</td>\n",
              "      <td>0.374594</td>\n",
              "    </tr>\n",
              "    <tr>\n",
              "      <th>person.n.01</th>\n",
              "      <td>0.220238</td>\n",
              "      <td>1.991907</td>\n",
              "      <td>0.551746</td>\n",
              "      <td>0.519160</td>\n",
              "    </tr>\n",
              "    <tr>\n",
              "      <th>whole.n.02</th>\n",
              "      <td>0.250000</td>\n",
              "      <td>1.871802</td>\n",
              "      <td>0.285714</td>\n",
              "      <td>0.374594</td>\n",
              "    </tr>\n",
              "    <tr>\n",
              "      <th>worker.n.01</th>\n",
              "      <td>0.166667</td>\n",
              "      <td>1.845827</td>\n",
              "      <td>0.631579</td>\n",
              "      <td>0.274628</td>\n",
              "    </tr>\n",
              "  </tbody>\n",
              "</table>\n",
              "</div>"
            ],
            "text/plain": [
              "                          PATH_SIMIL  LCH_SIMIL  WUP_SIMIL  LIN_SIMIL\n",
              "WordA      LCS                                                       \n",
              "homo       entity.n.01      0.125000   1.558145   0.571429   0.304235\n",
              "           homo.n.02        0.250000   2.251292   0.631579   0.726047\n",
              "           object.n.01      0.333333   2.538974   0.666667   0.697863\n",
              "           organism.n.01    0.136781   1.616087   0.569290   0.298239\n",
              "           whole.n.02       0.250000   2.251292   0.631579   0.694358\n",
              "man        adult.n.01       0.269231   2.172390   0.683333   0.685042\n",
              "           entity.n.01      0.153098   1.555345   0.422274   0.394593\n",
              "           male.n.02        0.182330   1.776265   0.500683   0.361565\n",
              "           man.n.01         0.155556   1.734255   0.606061   0.342819\n",
              "           object.n.01      0.138202   1.551091   0.457789   0.292214\n",
              "           organism.n.01    0.125161   1.442332   0.494530   0.399096\n",
              "           person.n.01      0.164511   1.672321   0.530986   0.365148\n",
              "           whole.n.02       0.146900   1.548889   0.514248   0.459608\n",
              "           worker.n.01      0.138889   1.643094   0.530075   0.235190\n",
              "serviceman entity.n.01      0.125000   1.558145   0.571429   0.304943\n",
              "           object.n.01      0.083333   1.152680   0.153846   0.000000\n",
              "           organism.n.01    0.154762   1.768751   0.615789   0.340567\n",
              "           person.n.01      0.197109   1.987703   0.651593   0.342841\n",
              "           whole.n.02       0.090909   1.239691   0.545455   0.346887\n",
              "           worker.n.01      0.186508   1.929598   0.645820   0.319284\n",
              "valet      entity.n.01      0.166667   1.845827   0.631579   0.285906\n",
              "           object.n.01      0.200000   1.648659   0.250000   0.374594\n",
              "           organism.n.01    0.333333   2.159484   0.333333   0.374594\n",
              "           person.n.01      0.220238   1.991907   0.551746   0.519160\n",
              "           whole.n.02       0.250000   1.871802   0.285714   0.374594\n",
              "           worker.n.01      0.166667   1.845827   0.631579   0.274628"
            ]
          },
          "execution_count": 46,
          "metadata": {},
          "output_type": "execute_result"
        }
      ],
      "source": [
        "final_df.groupby(['WordA','LCS']).mean()"
      ]
    },
    {
      "cell_type": "code",
      "execution_count": 47,
      "metadata": {
        "colab": {
          "base_uri": "https://localhost:8080/",
          "height": 260
        },
        "id": "RpHX-1vfk4kq",
        "outputId": "4c6339b3-156b-43c3-815f-bb9c70496f3c"
      },
      "outputs": [
        {
          "data": {
            "text/html": [
              "<div>\n",
              "<style scoped>\n",
              "    .dataframe tbody tr th:only-of-type {\n",
              "        vertical-align: middle;\n",
              "    }\n",
              "\n",
              "    .dataframe tbody tr th {\n",
              "        vertical-align: top;\n",
              "    }\n",
              "\n",
              "    .dataframe thead th {\n",
              "        text-align: right;\n",
              "    }\n",
              "</style>\n",
              "<table border=\"1\" class=\"dataframe\">\n",
              "  <thead>\n",
              "    <tr style=\"text-align: right;\">\n",
              "      <th></th>\n",
              "      <th>PATH_SIMIL</th>\n",
              "      <th>LCH_SIMIL</th>\n",
              "      <th>WUP_SIMIL</th>\n",
              "      <th>LIN_SIMIL</th>\n",
              "    </tr>\n",
              "    <tr>\n",
              "      <th>WordA</th>\n",
              "      <th></th>\n",
              "      <th></th>\n",
              "      <th></th>\n",
              "      <th></th>\n",
              "    </tr>\n",
              "  </thead>\n",
              "  <tbody>\n",
              "    <tr>\n",
              "      <th>homo</th>\n",
              "      <td>0.157342</td>\n",
              "      <td>1.722855</td>\n",
              "      <td>0.580494</td>\n",
              "      <td>0.359716</td>\n",
              "    </tr>\n",
              "    <tr>\n",
              "      <th>man</th>\n",
              "      <td>0.161382</td>\n",
              "      <td>1.656113</td>\n",
              "      <td>0.512967</td>\n",
              "      <td>0.368981</td>\n",
              "    </tr>\n",
              "    <tr>\n",
              "      <th>serviceman</th>\n",
              "      <td>0.178537</td>\n",
              "      <td>1.868394</td>\n",
              "      <td>0.616458</td>\n",
              "      <td>0.322300</td>\n",
              "    </tr>\n",
              "    <tr>\n",
              "      <th>valet</th>\n",
              "      <td>0.221148</td>\n",
              "      <td>1.957323</td>\n",
              "      <td>0.514891</td>\n",
              "      <td>0.465543</td>\n",
              "    </tr>\n",
              "  </tbody>\n",
              "</table>\n",
              "</div>"
            ],
            "text/plain": [
              "            PATH_SIMIL  LCH_SIMIL  WUP_SIMIL  LIN_SIMIL\n",
              "WordA                                                  \n",
              "homo          0.157342   1.722855   0.580494   0.359716\n",
              "man           0.161382   1.656113   0.512967   0.368981\n",
              "serviceman    0.178537   1.868394   0.616458   0.322300\n",
              "valet         0.221148   1.957323   0.514891   0.465543"
            ]
          },
          "execution_count": 47,
          "metadata": {},
          "output_type": "execute_result"
        }
      ],
      "source": [
        "final_df.groupby('WordA').mean()"
      ]
    },
    {
      "cell_type": "code",
      "execution_count": 49,
      "metadata": {
        "id": "sUlFaTD3T6D_"
      },
      "outputs": [],
      "source": [
        "#normalizing to [0,1]\n",
        "final_df['LCH_SIMIL'] = (final_df['LCH_SIMIL'] - final_df['LCH_SIMIL'].min()) / (final_df['LCH_SIMIL'].max() - final_df['LCH_SIMIL'].min())\n",
        "\n",
        "final_df = final_df.drop(['WordB'],axis=1)"
      ]
    },
    {
      "cell_type": "code",
      "execution_count": 50,
      "metadata": {
        "colab": {
          "base_uri": "https://localhost:8080/",
          "height": 260
        },
        "id": "kQyykPpbUq4C",
        "outputId": "baa944df-8b0b-4cb8-92ee-081205d5592c"
      },
      "outputs": [
        {
          "data": {
            "text/html": [
              "<div>\n",
              "<style scoped>\n",
              "    .dataframe tbody tr th:only-of-type {\n",
              "        vertical-align: middle;\n",
              "    }\n",
              "\n",
              "    .dataframe tbody tr th {\n",
              "        vertical-align: top;\n",
              "    }\n",
              "\n",
              "    .dataframe thead th {\n",
              "        text-align: right;\n",
              "    }\n",
              "</style>\n",
              "<table border=\"1\" class=\"dataframe\">\n",
              "  <thead>\n",
              "    <tr style=\"text-align: right;\">\n",
              "      <th></th>\n",
              "      <th>Combination</th>\n",
              "      <th>LCS</th>\n",
              "      <th>WordA</th>\n",
              "      <th>PATH_SIMIL</th>\n",
              "      <th>LCH_SIMIL</th>\n",
              "      <th>WUP_SIMIL</th>\n",
              "      <th>LIN_SIMIL</th>\n",
              "    </tr>\n",
              "  </thead>\n",
              "  <tbody>\n",
              "    <tr>\n",
              "      <th>0</th>\n",
              "      <td>man.n.01-serviceman.n.01</td>\n",
              "      <td>person.n.01</td>\n",
              "      <td>man</td>\n",
              "      <td>0.166667</td>\n",
              "      <td>0.454757</td>\n",
              "      <td>0.631579</td>\n",
              "      <td>0.387054</td>\n",
              "    </tr>\n",
              "    <tr>\n",
              "      <th>1</th>\n",
              "      <td>man.n.01-man.n.03</td>\n",
              "      <td>person.n.01</td>\n",
              "      <td>man</td>\n",
              "      <td>0.250000</td>\n",
              "      <td>0.655990</td>\n",
              "      <td>0.705882</td>\n",
              "      <td>0.356225</td>\n",
              "    </tr>\n",
              "    <tr>\n",
              "      <th>2</th>\n",
              "      <td>man.n.01-homo.n.02</td>\n",
              "      <td>organism.n.01</td>\n",
              "      <td>man</td>\n",
              "      <td>0.083333</td>\n",
              "      <td>0.110747</td>\n",
              "      <td>0.521739</td>\n",
              "      <td>0.365775</td>\n",
              "    </tr>\n",
              "    <tr>\n",
              "      <th>3</th>\n",
              "      <td>man.n.01-man.n.05</td>\n",
              "      <td>person.n.01</td>\n",
              "      <td>man</td>\n",
              "      <td>0.142857</td>\n",
              "      <td>0.378251</td>\n",
              "      <td>0.600000</td>\n",
              "      <td>0.356225</td>\n",
              "    </tr>\n",
              "    <tr>\n",
              "      <th>4</th>\n",
              "      <td>man.n.01-man.n.06</td>\n",
              "      <td>male.n.02</td>\n",
              "      <td>man</td>\n",
              "      <td>0.333333</td>\n",
              "      <td>0.798767</td>\n",
              "      <td>0.666667</td>\n",
              "      <td>0.813972</td>\n",
              "    </tr>\n",
              "  </tbody>\n",
              "</table>\n",
              "</div>"
            ],
            "text/plain": [
              "                Combination            LCS  ... WUP_SIMIL  LIN_SIMIL\n",
              "0  man.n.01-serviceman.n.01    person.n.01  ...  0.631579   0.387054\n",
              "1         man.n.01-man.n.03    person.n.01  ...  0.705882   0.356225\n",
              "2        man.n.01-homo.n.02  organism.n.01  ...  0.521739   0.365775\n",
              "3         man.n.01-man.n.05    person.n.01  ...  0.600000   0.356225\n",
              "4         man.n.01-man.n.06      male.n.02  ...  0.666667   0.813972\n",
              "\n",
              "[5 rows x 7 columns]"
            ]
          },
          "execution_count": 50,
          "metadata": {},
          "output_type": "execute_result"
        }
      ],
      "source": [
        "final_df.head()"
      ]
    },
    {
      "cell_type": "markdown",
      "metadata": {
        "id": "PamI4z05Ybco"
      },
      "source": [
        "## Synsets for all words"
      ]
    },
    {
      "cell_type": "code",
      "execution_count": 52,
      "metadata": {
        "colab": {
          "base_uri": "https://localhost:8080/"
        },
        "id": "zdQmH5IxV4uJ",
        "outputId": "e1a76c19-01ea-4303-f50a-8ffb32c5ed3b"
      },
      "outputs": [
        {
          "name": "stdout",
          "output_type": "stream",
          "text": [
            "------->man<-------\n",
            "Synsets:\n",
            "man.n.01\n",
            "serviceman.n.01\n",
            "man.n.03\n",
            "homo.n.02\n",
            "man.n.05\n",
            "man.n.06\n",
            "valet.n.01\n",
            "man.n.08\n",
            "man.n.09\n",
            "man.n.10\n",
            "world.n.08\n",
            "\n",
            "\n",
            "------->swim<-------\n",
            "Synsets:\n",
            "swim.v.01\n",
            "float.v.02\n",
            "swim.v.03\n",
            "swim.v.04\n",
            "swim.v.05\n",
            "\n",
            "\n",
            "------->girl<-------\n",
            "Synsets:\n",
            "girl.n.01\n",
            "female_child.n.01\n",
            "daughter.n.01\n",
            "girlfriend.n.02\n",
            "girl.n.05\n",
            "\n",
            "\n",
            "------->boy<-------\n",
            "Synsets:\n",
            "male_child.n.01\n",
            "boy.n.02\n",
            "son.n.01\n",
            "boy.n.04\n",
            "\n",
            "\n",
            "------->woman<-------\n",
            "Synsets:\n",
            "woman.n.01\n",
            "woman.n.02\n",
            "charwoman.n.01\n",
            "womanhood.n.02\n",
            "\n",
            "\n",
            "------->walk<-------\n",
            "Synsets:\n",
            "walk.v.01\n",
            "walk.v.02\n",
            "walk.v.03\n",
            "walk.v.04\n",
            "walk.v.05\n",
            "walk.v.06\n",
            "walk.v.07\n",
            "walk.v.08\n",
            "walk.v.09\n",
            "walk.v.10\n",
            "\n",
            "\n"
          ]
        }
      ],
      "source": [
        "# printing the synsets\n",
        "for key, value in d.items():\n",
        "  print(f\"------->{key}<-------\")\n",
        "  print(f\"Synsets:\")\n",
        "  for x in value:\n",
        "    print(f\"{x.name()}\")\n",
        "  print(\"\\n\")"
      ]
    },
    {
      "cell_type": "code",
      "execution_count": 112,
      "metadata": {
        "colab": {
          "base_uri": "https://localhost:8080/"
        },
        "id": "JN725bU7fbKK",
        "outputId": "adce53b3-b5db-49de-f4c7-073ce79a7646"
      },
      "outputs": [
        {
          "name": "stdout",
          "output_type": "stream",
          "text": [
            "                  Combination            LCS\n",
            "0    man.n.01-serviceman.n.01    person.n.01\n",
            "1           man.n.01-man.n.03    person.n.01\n",
            "2          man.n.01-homo.n.02  organism.n.01\n",
            "3           man.n.01-man.n.05    person.n.01\n",
            "4           man.n.01-man.n.06      male.n.02\n",
            "..                        ...            ...\n",
            "291         man.n.09-boy.n.04    object.n.01\n",
            "292       man.n.09-woman.n.01    object.n.01\n",
            "293       man.n.09-woman.n.02    object.n.01\n",
            "294   man.n.09-charwoman.n.01    object.n.01\n",
            "295   man.n.09-womanhood.n.02    entity.n.01\n",
            "\n",
            "[171 rows x 2 columns]\n"
          ]
        }
      ],
      "source": [
        "# Combinations and their LCS\n",
        "print(final_df[['Combination','LCS']])"
      ]
    },
    {
      "cell_type": "markdown",
      "metadata": {
        "id": "56um0akZYfIc"
      },
      "source": [
        "## Graphs"
      ]
    },
    {
      "cell_type": "code",
      "execution_count": 92,
      "metadata": {
        "colab": {
          "base_uri": "https://localhost:8080/",
          "height": 934
        },
        "id": "T8kV_lldaAV7",
        "outputId": "b00e4a1a-0482-4996-9a80-f914825af20a"
      },
      "outputs": [
        {
          "data": {
            "image/png": "[encoded data removed]",
            "text/plain": [
              "<Figure size 1440x1080 with 1 Axes>"
            ]
          },
          "metadata": {
            "needs_background": "light"
          },
          "output_type": "display_data"
        }
      ],
      "source": [
        "\n",
        "plt.figure(figsize=(20,15))\n",
        "chart = sns.countplot(\n",
        "    data=final_df,\n",
        "    x='LCS',\n",
        ")\n",
        "chart.set_xticklabels(chart.get_xticklabels(), rotation=45)\n",
        "chart.set_title('Graph 1. Count of Combinations per LCS')\n",
        "plt.show()"
      ]
    },
    {
      "cell_type": "code",
      "execution_count": 94,
      "metadata": {
        "colab": {
          "base_uri": "https://localhost:8080/",
          "height": 930
        },
        "id": "HK-jJTcRa6MO",
        "outputId": "eede9805-bf33-4e3e-c33b-1b494ffa8a5c"
      },
      "outputs": [
        {
          "data": {
            "image/png": "[encoded data removed]",
            "text/plain": [
              "<Figure size 1440x1080 with 1 Axes>"
            ]
          },
          "metadata": {
            "needs_background": "light"
          },
          "output_type": "display_data"
        }
      ],
      "source": [
        "\n",
        "plt.figure(figsize=(20,15))\n",
        "chart2 = sns.countplot(\n",
        "    data=final_df,\n",
        "    x='WordA',\n",
        ")\n",
        "chart2.set_xticklabels(chart.get_xticklabels(), rotation=45)\n",
        "chart2.set_title('Graph 2. Count of Combinations per Word')\n",
        "plt.show()"
      ]
    },
    {
      "cell_type": "code",
      "execution_count": 96,
      "metadata": {
        "id": "bg7bzc_4bPsh"
      },
      "outputs": [],
      "source": [
        "sims = ['PATH_SIMIL','LCH_SIMIL','WUP_SIMIL','LIN_SIMIL']"
      ]
    },
    {
      "cell_type": "code",
      "execution_count": 103,
      "metadata": {
        "colab": {
          "base_uri": "https://localhost:8080/",
          "height": 926
        },
        "id": "pMO8PZvtbh21",
        "outputId": "3386ba71-aeb2-4311-96a6-e1e22fa011ee"
      },
      "outputs": [
        {
          "data": {
            "image/png": "[encoded data removed]",
            "text/plain": [
              "<Figure size 1440x1080 with 1 Axes>"
            ]
          },
          "metadata": {
            "needs_background": "light"
          },
          "output_type": "display_data"
        }
      ],
      "source": [
        "final_df[sims].mean().plot(kind='bar',title='Graph 3. Mean Values for each similarity algorithm',figsize=(20,15));"
      ]
    },
    {
      "cell_type": "code",
      "execution_count": 108,
      "metadata": {
        "colab": {
          "base_uri": "https://localhost:8080/",
          "height": 942
        },
        "id": "JvfXnINCbK5h",
        "outputId": "c7ee8106-b214-4350-93c8-1fc04deffe27"
      },
      "outputs": [
        {
          "data": {
            "image/png": "[encoded data removed]",
            "text/plain": [
              "<Figure size 1440x1080 with 1 Axes>"
            ]
          },
          "metadata": {
            "needs_background": "light"
          },
          "output_type": "display_data"
        }
      ],
      "source": [
        "final_df.groupby('WordA').mean().plot(kind='bar',figsize=(20,15),title='Graph 4. Similarity mean value grouped by words');"
      ]
    },
    {
      "cell_type": "markdown",
      "metadata": {
        "id": "GqovfDeMFfK_"
      },
      "source": [
        "\n",
        "\n",
        "## Description\n",
        "During this lab we used the NLTK.Wordnet as well as NLTK.Wordnet_IC. NLTK.Wordnet is a database which groups a specified language (this case English), words into sinonyms called synsets. From these synsets we want to evaluate the semantic similarities compared to the synsets of the other words. \n",
        "\n",
        "In order to do this, we need to do the following: \n",
        "- Find all the synsets for all provided pairs (if possible). \n",
        "- Find all possible combinations of the synsets. \n",
        "- Get the LCS for all the possible combinations (if it exists). \n",
        "- Calculate the similarity scores using four different scores: \n",
        "1. Path Similarity \n",
        "2. Lin Similarity \n",
        "3. Wu-Palmer Similarity \n",
        "4. Leacock-Chodorow Similarity\n",
        "\n",
        "## Evaluation\n",
        "\n",
        "The data is presented in the following way: \n",
        "\n",
        "We created a dataframe which contains all the combinations, LCS, the original word, and their corresponding similarities. From here we did some further evaluation, such as looking at the number of combinations per LCS, as well as number of combinations per word. Lastly, we decided to look at the mean value for each of the algorithms. \n",
        "\n",
        "## Summary\n",
        "Since the different similarity scores have a different definition, we need to take a look at all of them. \n",
        "Since there was no Path Similarity above 30% we can say that the relationships of the words wihin their shortest path is low. \n",
        "LCH increases, since it is based upong the relationship of the shortest path length and the taxonomy depth. In this case reaching a value of over 50% in some cases. \n",
        "The Wu Palmer, shows the similarity but incluiding the word sense based on their LCS as well! This is interesting because it gives an added level of comparisson between the two words. However, LCS selects the value if the shortest path to the root node is the longest, meaning it could have issues with multiple LCS canditates. \n",
        "Lastly the Lin similarity, returns a score based on the IC (Information Content) of the LCS! This is even more interesting because it gets the LCS such that it is the most specific ancestor node. \n",
        "\n",
        "In this case, for us, the Lin Similarity is what we defined as \"better\" because it uses the LCS as well as the Brown IC. Taking into account the IC and the LCS, gives a stronger sense of relationship between the words. "
      ]
    }
  ],
  "metadata": {
    "colab": {
      "collapsed_sections": [],
      "name": "lab05 | Eric & Andrey",
      "provenance": []
    },
    "kernelspec": {
      "display_name": "Python 3",
      "name": "python3"
    },
    "language_info": {
      "codemirror_mode": {
        "name": "ipython",
        "version": 3
      },
      "file_extension": ".py",
      "mimetype": "text/x-python",
      "name": "python",
      "nbconvert_exporter": "python",
      "pygments_lexer": "ipython3",
      "version": "3.8.12"
    }
  },
  "nbformat": 4,
  "nbformat_minor": 0
}
