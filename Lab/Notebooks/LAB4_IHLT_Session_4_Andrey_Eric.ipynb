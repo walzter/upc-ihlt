{
  "nbformat": 4,
  "nbformat_minor": 0,
  "metadata": {
    "colab": {
      "name": "IHLT_LAB_4_ANDREY_ERIC",
      "provenance": [],
      "collapsed_sections": []
    },
    "kernelspec": {
      "name": "python3",
      "display_name": "Python 3"
    },
    "language_info": {
      "name": "python"
    },
    "accelerator": "GPU"
  },
  "cells": [
    {
      "cell_type": "markdown",
      "metadata": {
        "id": "LTeHcIy_a_0-"
      },
      "source": [
        "## Import and libraries setup"
      ]
    },
    {
      "cell_type": "code",
      "metadata": {
        "colab": {
          "base_uri": "https://localhost:8080/"
        },
        "id": "5BCK4bRZm0JH",
        "outputId": "435f52bc-1f46-421b-eb0e-d2c71fc81304"
      },
      "source": [
        "!pip install python-crfsuite\n",
        "!pip install sklearn-pycrfsuite"
      ],
      "execution_count": null,
      "outputs": [
        {
          "output_type": "stream",
          "name": "stdout",
          "text": [
            "Collecting python-crfsuite\n",
            "  Downloading python_crfsuite-0.9.7-cp37-cp37m-manylinux1_x86_64.whl (743 kB)\n",
            "\u001b[K     |████████████████████████████████| 743 kB 5.4 MB/s \n",
            "\u001b[?25hInstalling collected packages: python-crfsuite\n",
            "Successfully installed python-crfsuite-0.9.7\n",
            "Collecting sklearn-pycrfsuite\n",
            "  Downloading sklearn-pycrfsuite-0.4.0.tar.gz (24 kB)\n",
            "Requirement already satisfied: tqdm>=2.0 in /usr/local/lib/python3.7/dist-packages (from sklearn-pycrfsuite) (4.62.3)\n",
            "Requirement already satisfied: six in /usr/local/lib/python3.7/dist-packages (from sklearn-pycrfsuite) (1.15.0)\n",
            "Requirement already satisfied: tabulate in /usr/local/lib/python3.7/dist-packages (from sklearn-pycrfsuite) (0.8.9)\n",
            "Collecting python-crfsuite-extension\n",
            "  Downloading python-crfsuite-extension-0.9.7.tar.gz (485 kB)\n",
            "\u001b[K     |████████████████████████████████| 485 kB 7.8 MB/s \n",
            "\u001b[?25hBuilding wheels for collected packages: sklearn-pycrfsuite, python-crfsuite-extension\n",
            "  Building wheel for sklearn-pycrfsuite (setup.py) ... \u001b[?25l\u001b[?25hdone\n",
            "  Created wheel for sklearn-pycrfsuite: filename=sklearn_pycrfsuite-0.4.0-py2.py3-none-any.whl size=11001 sha256=46c5408950bbde1bcf324d0da961e2637a157eb03a3a43fa4437618f0b2a4f0a\n",
            "  Stored in directory: /root/.cache/pip/wheels/44/50/b1/295e502c6652f551dc99bfdb394a3fe2fcb47668e333391f38\n",
            "  Building wheel for python-crfsuite-extension (setup.py) ... \u001b[?25l\u001b[?25hdone\n",
            "  Created wheel for python-crfsuite-extension: filename=python_crfsuite_extension-0.9.7-cp37-cp37m-linux_x86_64.whl size=775540 sha256=11c6bfeba819073edf06bcbcbb60e8d8d45b8445c6285d3a979fc21ad5f97865\n",
            "  Stored in directory: /root/.cache/pip/wheels/70/d7/bf/369f4d179407dbf3840132e4135fa61f0bf711f4496d0bf750\n",
            "Successfully built sklearn-pycrfsuite python-crfsuite-extension\n",
            "Installing collected packages: python-crfsuite-extension, sklearn-pycrfsuite\n",
            "Successfully installed python-crfsuite-extension-0.9.7 sklearn-pycrfsuite-0.4.0\n"
          ]
        }
      ]
    },
    {
      "cell_type": "code",
      "metadata": {
        "colab": {
          "base_uri": "https://localhost:8080/"
        },
        "id": "IuLuxf_qjkgx",
        "outputId": "21186899-daba-482a-9c8e-cbe7356c20b0"
      },
      "source": [
        "import pandas as pd\n",
        "import nltk,dill,pycrfsuite,time\n",
        "from tqdm import tqdm\n",
        "import matplotlib.pyplot as plt\n",
        "\n",
        "nltk.download('treebank')"
      ],
      "execution_count": null,
      "outputs": [
        {
          "output_type": "stream",
          "name": "stdout",
          "text": [
            "[nltk_data] Downloading package treebank to /root/nltk_data...\n",
            "[nltk_data]   Package treebank is already up-to-date!\n"
          ]
        },
        {
          "output_type": "execute_result",
          "data": {
            "text/plain": [
              "True"
            ]
          },
          "metadata": {},
          "execution_count": 150
        }
      ]
    },
    {
      "cell_type": "code",
      "metadata": {
        "id": "tJY7OwhqlWlJ"
      },
      "source": [
        "train_data = nltk.corpus.treebank.tagged_sents()\n",
        "test_data = nltk.corpus.treebank.tagged_sents()[3001:]"
      ],
      "execution_count": null,
      "outputs": []
    },
    {
      "cell_type": "markdown",
      "metadata": {
        "id": "Mw4CD12Osohx"
      },
      "source": [
        "# Models definition\n"
      ]
    },
    {
      "cell_type": "code",
      "metadata": {
        "id": "UE3K-VUBh2_l"
      },
      "source": [
        "def HMM_model(tmp_data,test_data): \n",
        "  #instantiate: \n",
        "  HMM_Trainer = nltk.tag.hmm.HiddenMarkovModelTrainer()\n",
        "  HMM = HMM_Trainer.train_supervised(tmp_data)\n",
        "  HMM_Eval = round(HMM.evaluate(test_data), 3)\n",
        "  with open('HMM_Treebank_POS_Tagger', 'wb') as f: \n",
        "    dill.dump(HMM,f)\n",
        "\n",
        "  return HMM_Eval\n",
        "\n",
        "def TnT_model(tmp_data,test_data):\n",
        "  TnT_Trainer = nltk.tag.tnt.TnT()\n",
        "  TnT_Trainer.train(tmp_data)\n",
        "  TnT_Eval = round(TnT_Trainer.evaluate(test_data), 3)\n",
        "  with open('TnT_Treebank_POS_Tagger', 'wb') as f: \n",
        "    dill.dump(TnT_Trainer,f)\n",
        "  return TnT_Eval\n",
        "\n",
        "def PER_model(tmp_data, test_data):\n",
        "  PER_Trainer = nltk.tag.perceptron.PerceptronTagger(load=False)\n",
        "  PER_Trainer.train(tmp_data)\n",
        "  PER_Eval = round(PER_Trainer.evaluate(test_data), 3)\n",
        "  with open('PER_Treebank_POS_Tagger', 'wb') as f: \n",
        "    dill.dump(PER_Trainer,f)\n",
        "  return PER_Eval\n",
        "\n",
        "def CRF_model(tmp_data, test_data):\n",
        "  CRF_Trainer = nltk.tag.CRFTagger() \n",
        "  CRF_Trainer.train(tmp_data,'crf_tagger_model')\n",
        "  CRF_Eval = round(CRF_Trainer.evaluate(test_data), 3)\n",
        "  return CRF_Eval"
      ],
      "execution_count": null,
      "outputs": []
    },
    {
      "cell_type": "markdown",
      "metadata": {
        "id": "KE09zUQFszyh"
      },
      "source": [
        "# Train & Test samples"
      ]
    },
    {
      "cell_type": "code",
      "metadata": {
        "id": "L_KrKhcahtgt"
      },
      "source": [
        "def test_all_models(train_data, test_data): \n",
        "  \n",
        "  len_sentences = [500,1000,1500,2000,2500,3000]\n",
        "  rt = []\n",
        "  l = []\n",
        "  for x in tqdm(len_sentences): \n",
        "\n",
        "    tmp_data = train_data[:x]\n",
        "\n",
        "    print(f\"\\n Training all the models with {x} samples\")\n",
        "    \n",
        "    tic = time.time()\n",
        "    model_accs = {\n",
        "                  \"HMM\":HMM_model(tmp_data,test_data),\n",
        "                  \"TnT\":TnT_model(tmp_data,test_data),\n",
        "                  \"PER\":PER_model(tmp_data,test_data),\n",
        "                  \"CRF\":CRF_model(tmp_data,test_data)\n",
        "              }\n",
        "    toc = time.time()\n",
        "    run_time = toc-tic\n",
        "    rt.append(run_time)\n",
        "    print(f'\\n Trained the first batch of models with {x} samples in {run_time:.2f} seconds')\n",
        "    l.append(model_accs)\n",
        "    \n",
        "\n",
        "  return l,rt"
      ],
      "execution_count": null,
      "outputs": []
    },
    {
      "cell_type": "code",
      "metadata": {
        "colab": {
          "base_uri": "https://localhost:8080/"
        },
        "id": "YPyNdH1_kONp",
        "outputId": "1fe0030d-012a-4544-bd18-7345d81e13ef"
      },
      "source": [
        "# running the models \n",
        "model_acc_list,run_time = test_all_models(train_data, test_data)"
      ],
      "execution_count": null,
      "outputs": [
        {
          "output_type": "stream",
          "name": "stderr",
          "text": [
            "\r  0%|          | 0/6 [00:00<?, ?it/s]"
          ]
        },
        {
          "output_type": "stream",
          "name": "stdout",
          "text": [
            "\n",
            " Training all the models with 500 samples\n"
          ]
        },
        {
          "output_type": "stream",
          "name": "stderr",
          "text": [
            "\r 17%|█▋        | 1/6 [00:38<03:11, 38.26s/it]"
          ]
        },
        {
          "output_type": "stream",
          "name": "stdout",
          "text": [
            "\n",
            " Trained the first batch of models with 500 samples in 38.26 seconds\n",
            "\n",
            " Training all the models with 1000 samples\n"
          ]
        },
        {
          "output_type": "stream",
          "name": "stderr",
          "text": [
            "\r 33%|███▎      | 2/6 [01:54<04:01, 60.35s/it]"
          ]
        },
        {
          "output_type": "stream",
          "name": "stdout",
          "text": [
            "\n",
            " Trained the first batch of models with 1000 samples in 75.81 seconds\n",
            "\n",
            " Training all the models with 1500 samples\n"
          ]
        },
        {
          "output_type": "stream",
          "name": "stderr",
          "text": [
            "\r 50%|█████     | 3/6 [03:47<04:14, 84.79s/it]"
          ]
        },
        {
          "output_type": "stream",
          "name": "stdout",
          "text": [
            "\n",
            " Trained the first batch of models with 1500 samples in 113.71 seconds\n",
            "\n",
            " Training all the models with 2000 samples\n"
          ]
        },
        {
          "output_type": "stream",
          "name": "stderr",
          "text": [
            "\r 67%|██████▋   | 4/6 [06:19<03:42, 111.14s/it]"
          ]
        },
        {
          "output_type": "stream",
          "name": "stdout",
          "text": [
            "\n",
            " Trained the first batch of models with 2000 samples in 151.37 seconds\n",
            "\n",
            " Training all the models with 2500 samples\n"
          ]
        },
        {
          "output_type": "stream",
          "name": "stderr",
          "text": [
            "\r 83%|████████▎ | 5/6 [09:11<02:13, 133.13s/it]"
          ]
        },
        {
          "output_type": "stream",
          "name": "stdout",
          "text": [
            "\n",
            " Trained the first batch of models with 2500 samples in 171.95 seconds\n",
            "\n",
            " Training all the models with 3000 samples\n"
          ]
        },
        {
          "output_type": "stream",
          "name": "stderr",
          "text": [
            "100%|██████████| 6/6 [12:20<00:00, 123.42s/it]"
          ]
        },
        {
          "output_type": "stream",
          "name": "stdout",
          "text": [
            "\n",
            " Trained the first batch of models with 3000 samples in 188.73 seconds\n"
          ]
        },
        {
          "output_type": "stream",
          "name": "stderr",
          "text": [
            "\n"
          ]
        }
      ]
    },
    {
      "cell_type": "markdown",
      "metadata": {
        "id": "6qfkWRIltK8D"
      },
      "source": [
        "# Post-processing\n",
        "\n"
      ]
    },
    {
      "cell_type": "code",
      "metadata": {
        "id": "yR7JxgYK4zLw"
      },
      "source": [
        "df = pd.DataFrame.from_dict(model_acc_list)\n",
        "#convert to percentages \n",
        "df = df * 100"
      ],
      "execution_count": null,
      "outputs": []
    },
    {
      "cell_type": "code",
      "metadata": {
        "colab": {
          "base_uri": "https://localhost:8080/",
          "height": 340
        },
        "id": "O0NQDHRrDWYY",
        "outputId": "9a9d931c-2774-4953-9657-1458ec98bb90"
      },
      "source": [
        "df['Training_Samples'] = [500,1000,1500,2000,2500,3000]\n",
        "df = df.set_index('Training_Samples')\n",
        "df"
      ],
      "execution_count": null,
      "outputs": [
        {
          "output_type": "execute_result",
          "data": {
            "text/html": [
              "<div>\n",
              "<style scoped>\n",
              "    .dataframe tbody tr th:only-of-type {\n",
              "        vertical-align: middle;\n",
              "    }\n",
              "\n",
              "    .dataframe tbody tr th {\n",
              "        vertical-align: top;\n",
              "    }\n",
              "\n",
              "    .dataframe thead th {\n",
              "        text-align: right;\n",
              "    }\n",
              "</style>\n",
              "<table border=\"1\" class=\"dataframe\">\n",
              "  <thead>\n",
              "    <tr style=\"text-align: right;\">\n",
              "      <th></th>\n",
              "      <th>HMM</th>\n",
              "      <th>TnT</th>\n",
              "      <th>PER</th>\n",
              "      <th>CRF</th>\n",
              "    </tr>\n",
              "    <tr>\n",
              "      <th>Training_Samples</th>\n",
              "      <th></th>\n",
              "      <th></th>\n",
              "      <th></th>\n",
              "      <th></th>\n",
              "    </tr>\n",
              "  </thead>\n",
              "  <tbody>\n",
              "    <tr>\n",
              "      <th>500</th>\n",
              "      <td>17.3</td>\n",
              "      <td>74.7</td>\n",
              "      <td>91.3</td>\n",
              "      <td>91.0</td>\n",
              "    </tr>\n",
              "    <tr>\n",
              "      <th>1000</th>\n",
              "      <td>22.1</td>\n",
              "      <td>79.6</td>\n",
              "      <td>93.3</td>\n",
              "      <td>92.5</td>\n",
              "    </tr>\n",
              "    <tr>\n",
              "      <th>1500</th>\n",
              "      <td>26.2</td>\n",
              "      <td>82.8</td>\n",
              "      <td>94.2</td>\n",
              "      <td>93.3</td>\n",
              "    </tr>\n",
              "    <tr>\n",
              "      <th>2000</th>\n",
              "      <td>30.4</td>\n",
              "      <td>84.9</td>\n",
              "      <td>94.9</td>\n",
              "      <td>93.9</td>\n",
              "    </tr>\n",
              "    <tr>\n",
              "      <th>2500</th>\n",
              "      <td>33.5</td>\n",
              "      <td>86.2</td>\n",
              "      <td>95.4</td>\n",
              "      <td>94.3</td>\n",
              "    </tr>\n",
              "    <tr>\n",
              "      <th>3000</th>\n",
              "      <td>36.9</td>\n",
              "      <td>87.6</td>\n",
              "      <td>95.9</td>\n",
              "      <td>94.8</td>\n",
              "    </tr>\n",
              "  </tbody>\n",
              "</table>\n",
              "</div>"
            ],
            "text/plain": [
              "                   HMM   TnT   PER   CRF\n",
              "Training_Samples                        \n",
              "500               17.3  74.7  91.3  91.0\n",
              "1000              22.1  79.6  93.3  92.5\n",
              "1500              26.2  82.8  94.2  93.3\n",
              "2000              30.4  84.9  94.9  93.9\n",
              "2500              33.5  86.2  95.4  94.3\n",
              "3000              36.9  87.6  95.9  94.8"
            ]
          },
          "metadata": {},
          "execution_count": 29
        }
      ]
    },
    {
      "cell_type": "markdown",
      "metadata": {
        "id": "5jRQPQ7-T16c"
      },
      "source": [
        "# Plots"
      ]
    },
    {
      "cell_type": "code",
      "metadata": {
        "colab": {
          "base_uri": "https://localhost:8080/",
          "height": 906
        },
        "id": "G7zrZld-GtNV",
        "outputId": "6ffdbce9-7eaa-481e-80c4-d230d74ff3ef"
      },
      "source": [
        "FIG_SIZE = (20,5)\n",
        "\n",
        "#plotting accuracy for each model and sample sizes \n",
        "df[cols].plot(kind='bar',\n",
        "        title='Graph 1. Evaluation of Different Models',\n",
        "        xlabel='Training Samples',\n",
        "        ylabel='Accuracy [%]',\n",
        "        figsize=FIG_SIZE,\n",
        "        rot=0)\n",
        "#plt.savefig('Evaluation of Different Models.png')\n",
        "plt.show()\n",
        "\n",
        "#plotting time taken\n",
        "\n",
        "df['run_time'] = run_time\n",
        "df['run_time'].plot(kind='bar',\n",
        "          title='Graph 2. Avg. Run Time of all Models with Varying Sample Sizes',\n",
        "          xlabel='Training Samples',\n",
        "          ylabel='Time [s]',\n",
        "          figsize=FIG_SIZE,\n",
        "          rot=0)\n",
        "#plt.savefig('Avg. Run Time of all Models with Varying Sample Sizes.png')\n",
        "plt.show()\n",
        "\n",
        "# one zipped list of coordinates and column titles\n",
        "cols = ['HMM', 'TnT', 'PER', 'CRF']\n",
        "coords = [(0,0),(0,1),(1,0),(1,1)]\n",
        "all = list(zip(coords, cols))\n",
        "# setting up the figure \n",
        "fig, ax = plt.subplots(nrows=2,ncols=2,figsize=FIG_SIZE,sharex=True)\n",
        "# Setting the main title\n",
        "fig.suptitle(\"Graph 3. Accuracy vs. Training Samples\", fontsize=16)\n",
        "#shared x_label\n",
        "fig.text(0.5, 0.04, 'Number of Training Samples', ha='center', va='center')\n",
        "# shared y_label\n",
        "fig.text(0.06, 0.5, 'Accuracy [%]', ha='center', va='center', rotation='vertical')\n",
        "\n",
        "for idx,x in enumerate(all): \n",
        "  ax[x[0][0],x[0][1]].plot(df[x[1]])\n",
        "  ax[x[0][0],x[0][1]].title.set_text(f'Subplot {idx+1}. Accuracy for {x[1]}')\n",
        "\n",
        "#plt.savefig('Accuracy_vs_training_samples.png')\n",
        "plt.show()\n"
      ],
      "execution_count": null,
      "outputs": [
        {
          "output_type": "display_data",
          "data": {
            "image/png": "[encoded data removed]",
            "text/plain": [
              "<Figure size 1440x360 with 1 Axes>"
            ]
          },
          "metadata": {
            "needs_background": "light"
          }
        },
        {
          "output_type": "display_data",
          "data": {
            "image/png": "[encoded data removed]",
            "text/plain": [
              "<Figure size 1440x360 with 1 Axes>"
            ]
          },
          "metadata": {
            "needs_background": "light"
          }
        },
        {
          "output_type": "display_data",
          "data": {
            "image/png": "[encoded data removed]",
            "text/plain": [
              "<Figure size 1440x360 with 4 Axes>"
            ]
          },
          "metadata": {
            "needs_background": "light"
          }
        }
      ]
    },
    {
      "cell_type": "code",
      "metadata": {
        "colab": {
          "base_uri": "https://localhost:8080/",
          "height": 380
        },
        "id": "pdJnCvHeV5L5",
        "outputId": "e1dc620d-435f-465d-b8f6-03de21d6821c"
      },
      "source": [
        "df.describe()"
      ],
      "execution_count": null,
      "outputs": [
        {
          "output_type": "execute_result",
          "data": {
            "text/html": [
              "<div>\n",
              "<style scoped>\n",
              "    .dataframe tbody tr th:only-of-type {\n",
              "        vertical-align: middle;\n",
              "    }\n",
              "\n",
              "    .dataframe tbody tr th {\n",
              "        vertical-align: top;\n",
              "    }\n",
              "\n",
              "    .dataframe thead th {\n",
              "        text-align: right;\n",
              "    }\n",
              "</style>\n",
              "<table border=\"1\" class=\"dataframe\">\n",
              "  <thead>\n",
              "    <tr style=\"text-align: right;\">\n",
              "      <th></th>\n",
              "      <th>HMM</th>\n",
              "      <th>TnT</th>\n",
              "      <th>PER</th>\n",
              "      <th>CRF</th>\n",
              "      <th>run_time</th>\n",
              "    </tr>\n",
              "  </thead>\n",
              "  <tbody>\n",
              "    <tr>\n",
              "      <th>count</th>\n",
              "      <td>6.000000</td>\n",
              "      <td>6.000000</td>\n",
              "      <td>6.000000</td>\n",
              "      <td>6.000000</td>\n",
              "      <td>6.000000</td>\n",
              "    </tr>\n",
              "    <tr>\n",
              "      <th>mean</th>\n",
              "      <td>27.733333</td>\n",
              "      <td>82.633333</td>\n",
              "      <td>94.166667</td>\n",
              "      <td>93.300000</td>\n",
              "      <td>123.304214</td>\n",
              "    </tr>\n",
              "    <tr>\n",
              "      <th>std</th>\n",
              "      <td>7.312090</td>\n",
              "      <td>4.789433</td>\n",
              "      <td>1.675311</td>\n",
              "      <td>1.381304</td>\n",
              "      <td>58.336085</td>\n",
              "    </tr>\n",
              "    <tr>\n",
              "      <th>min</th>\n",
              "      <td>17.300000</td>\n",
              "      <td>74.700000</td>\n",
              "      <td>91.300000</td>\n",
              "      <td>91.000000</td>\n",
              "      <td>38.256189</td>\n",
              "    </tr>\n",
              "    <tr>\n",
              "      <th>25%</th>\n",
              "      <td>23.125000</td>\n",
              "      <td>80.400000</td>\n",
              "      <td>93.525000</td>\n",
              "      <td>92.700000</td>\n",
              "      <td>85.286180</td>\n",
              "    </tr>\n",
              "    <tr>\n",
              "      <th>50%</th>\n",
              "      <td>28.300000</td>\n",
              "      <td>83.850000</td>\n",
              "      <td>94.550000</td>\n",
              "      <td>93.600000</td>\n",
              "      <td>132.537152</td>\n",
              "    </tr>\n",
              "    <tr>\n",
              "      <th>75%</th>\n",
              "      <td>32.725000</td>\n",
              "      <td>85.875000</td>\n",
              "      <td>95.275000</td>\n",
              "      <td>94.200000</td>\n",
              "      <td>166.804959</td>\n",
              "    </tr>\n",
              "    <tr>\n",
              "      <th>max</th>\n",
              "      <td>36.900000</td>\n",
              "      <td>87.600000</td>\n",
              "      <td>95.900000</td>\n",
              "      <td>94.800000</td>\n",
              "      <td>188.731377</td>\n",
              "    </tr>\n",
              "  </tbody>\n",
              "</table>\n",
              "</div>"
            ],
            "text/plain": [
              "             HMM        TnT        PER        CRF    run_time\n",
              "count   6.000000   6.000000   6.000000   6.000000    6.000000\n",
              "mean   27.733333  82.633333  94.166667  93.300000  123.304214\n",
              "std     7.312090   4.789433   1.675311   1.381304   58.336085\n",
              "min    17.300000  74.700000  91.300000  91.000000   38.256189\n",
              "25%    23.125000  80.400000  93.525000  92.700000   85.286180\n",
              "50%    28.300000  83.850000  94.550000  93.600000  132.537152\n",
              "75%    32.725000  85.875000  95.275000  94.200000  166.804959\n",
              "max    36.900000  87.600000  95.900000  94.800000  188.731377"
            ]
          },
          "metadata": {},
          "execution_count": 189
        }
      ]
    },
    {
      "cell_type": "markdown",
      "metadata": {
        "id": "zJk99gcbTksw"
      },
      "source": [
        "# Report \n",
        "\n",
        "## Description\n",
        "\n",
        "During this excercise we used the 'treebank' corpus in combination with different POS tagging models. Each of the model was trained with a varying size of training samples from the same corpus. \n",
        "\n",
        "The models are as follows: \n",
        "\n",
        "Name | Description\n",
        "--|--\n",
        "HMM: Hidden Markov Model| It is an extension of Markov chains, stating that the probability of transition from one state to another only depends on the current state.This means the transitions previous to this one are not taken into account.\n",
        "TnT: A Statisical Part of Speech Tagger|It a statistical tagger that works on second order Markov chains. This means, the previous state is taken into account to calculate the probability of transition.\n",
        "perceptron| Port of Textblob Averaged Perceptron Tagger which uses a structured perceptron algorithm \n",
        "CRFSuite: Conditional Random Fields|\n",
        "\n",
        "With the corresponding training sample sizes which were 500, 1000, 1500, 2000, 2500, and 3000.\n",
        "\n",
        "What we did was to define a function to train each model and save its parameters, which we then passed to our _test_all_models_ function. This allowed us to store the results of each model with each training sample size to a dictionary for easier post-processing. \n",
        "\n",
        "## Evaluation\n",
        "\n",
        "Upon evaluation of the different models used, observed graphically in *Graph 1*, we can see that _HMM_ has the lowest accuracy of them all, with a maximum accuracy of ~37%. This is very low compared to the minimum accuracy of _TnT_ being ~75%. Particularly, for _HMM_ the accuracy slowly increased with the increasing number of training samples. We observed that the other models performed much better with increasing training samples, and they did not plateu at any point. \n",
        "\n",
        "We also observed in *Graph 2*, the increasing time taken to train each model with the number of samples. It is increasing constantly which means that there needs to be some modifications if the training sample get too large, since it would not be viable to train them with such a large training time. One option here would be to alter the source files of the models to see if a numba JIT, can be used (allowing for just in time compilation), if this is not viable, I would search for a way to use the GPU to perform the calculations. \n",
        "\n",
        "## Conclusion\n",
        "\n",
        "In conclusion, comparing all four models with the varying training samples, we would choose to keep the _PER_ model as it has the highest accuracy of all four. The accuracy ~96% is satisfying when compared to the other models. We can see this comparisson graphically in *Graph 3*, where we plotted a graph of 4-subplots in order to have an easier overview. We see that _Subplot 3_ has the highest accuracy of them all. \n",
        "\n"
      ]
    }
  ]
}