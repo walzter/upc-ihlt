{
  "cells": [
    {
      "cell_type": "markdown",
      "id": "e513ee9c",
      "metadata": {
        "id": "bmW5rzyXCqAt"
      },
      "source": [
        "#  Laboratory 9: Coreference"
      ]
    },
    {
      "cell_type": "markdown",
      "id": "f1c3f998",
      "metadata": {
        "id": "CsIpdW1sYbY1"
      },
      "source": [
        "## Installs"
      ]
    },
    {
      "cell_type": "code",
      "execution_count": null,
      "id": "bddb5b62",
      "metadata": {
        "colab": {
          "base_uri": "https://localhost:8080/"
        },
        "id": "5heyATYTR6fs",
        "outputId": "e4cbe5be-330a-4166-808b-fabf5e2751b2"
      },
      "outputs": [],
      "source": [
        "# messed up the initial instalation of neuralcoref\n",
        "!pip install folium==0.2.1\n",
        "!python -m spacy download en_core_web_sm\n",
        "!pip install neuralcoref"
      ]
    },
    {
      "cell_type": "code",
      "execution_count": null,
      "metadata": {},
      "outputs": [],
      "source": [
        "!pip install spacy==2.1.0 --ignore-installed"
      ]
    },
    {
      "cell_type": "markdown",
      "metadata": {},
      "source": [
        "# Imports"
      ]
    },
    {
      "cell_type": "code",
      "execution_count": null,
      "metadata": {},
      "outputs": [],
      "source": [
        "# imports\n",
        "import spacy\n",
        "import neuralcoref\n",
        "#Loading the Languages\n",
        "nlp = spacy.load('en_core_web_sm')\n",
        "neuralcoref.add_to_pipe(nlp)"
      ]
    },
    {
      "cell_type": "markdown",
      "metadata": {},
      "source": [
        "# CoreNLPParser"
      ]
    },
    {
      "cell_type": "code",
      "execution_count": 3,
      "id": "6da482a3",
      "metadata": {
        "id": "iRNI-oBczmRT"
      },
      "outputs": [],
      "source": [
        "# Local language file needs to be downloaded and then a java service needs to be started in order to make the API call\n",
        "from nltk.parse import CoreNLPParser\n",
        "tagger = CoreNLPParser(url='http://localhost:9000')\n",
        "tagger.parser_annotator='tokenize,ssplit,pos,lemma,ner,depparse,coref'"
      ]
    },
    {
      "cell_type": "code",
      "execution_count": 4,
      "metadata": {},
      "outputs": [],
      "source": [
        "def showMyChains(CHAINS):\n",
        "    for idx, chains in enumerate(CHAINS):\n",
        "        print(f\"Chain {idx+1}\")\n",
        "        for x in CHAINS[chains]:\n",
        "            print(x['text'],x['type'],x['gender'],x['animacy'],x['number'],x['isRepresentativeMention'])"
      ]
    },
    {
      "cell_type": "code",
      "execution_count": 6,
      "id": "482ac0f9",
      "metadata": {
        "colab": {
          "base_uri": "https://localhost:8080/",
          "height": 842
        },
        "id": "eYA6eXfmz4od",
        "outputId": "22ffc008-abe4-48c1-8bec-130d8bc0d159"
      },
      "outputs": [
        {
          "name": "stdout",
          "output_type": "stream",
          "text": [
            "Chain 1\n",
            "Alice PROPER FEMALE ANIMATE SINGULAR False\n",
            "her PRONOMINAL FEMALE ANIMATE SINGULAR False\n",
            "she PRONOMINAL FEMALE ANIMATE SINGULAR False\n",
            "her PRONOMINAL FEMALE ANIMATE SINGULAR False\n",
            "Alice ` without pictures or conversations PROPER FEMALE ANIMATE SINGULAR True\n",
            "Chain 2\n",
            "her sister NOMINAL FEMALE ANIMATE SINGULAR True\n",
            "her sister NOMINAL FEMALE ANIMATE SINGULAR False\n",
            "Chain 3\n",
            "the book her sister was reading NOMINAL NEUTRAL INANIMATE SINGULAR True\n",
            "it PRONOMINAL NEUTRAL INANIMATE SINGULAR False\n",
            "it PRONOMINAL NEUTRAL INANIMATE SINGULAR False\n"
          ]
        }
      ],
      "source": [
        "text = \"Alice was beginning to get very tired of sitting by her sister on the bank,and of having nothing to do: once or twice she had peeped into the book her sister was reading, but it had no pictures or conversations in it, ‘and what is the use of a book,’ thought Alice ‘without pictures or conversations?\"\n",
        "res = tagger.api_call(text)\n",
        "mychains = res['corefs']\n",
        "showMyChains(mychains)"
      ]
    },
    {
      "cell_type": "markdown",
      "id": "6eeaef3d",
      "metadata": {
        "id": "-VRpa7smYlz2"
      },
      "source": [
        "## HuggingFace Coreference"
      ]
    },
    {
      "cell_type": "code",
      "execution_count": null,
      "id": "83b297a3",
      "metadata": {
        "id": "uU2JOmcLO42C"
      },
      "outputs": [],
      "source": [
        "text = nlp(\"Alice was beginning to get very tired of sitting by her sister on the bank,and of having nothing to do: once or twice she had peeped into the book her sister was reading, but it had no pictures or conversations in it, ‘and what is the use of a book,’ thought Alice ‘without pictures or conversations?\")\n",
        "\n",
        "# any of the coreferences has been resolved?\n",
        "text._.has_coref\n",
        "\n",
        "# Clusters of the Corereference \n",
        "print(*text._.coref_clusters)\n",
        "\n",
        "\n",
        "# the resolved sentence replacing the corerefering mention is replaced by the main\n",
        "# mention in the associated cluster \n",
        "print(*nlp(text._.coref_resolved).sents)\n",
        "\n",
        "\n",
        "# showing the scores for each of the coreferences \n",
        "scores = text._.coref_scores\n",
        "for value in scores.values():\n",
        "  print(value)"
      ]
    },
    {
      "cell_type": "markdown",
      "id": "86a3ba07",
      "metadata": {
        "id": "h9r37MaPdCKY"
      },
      "source": [
        "# Report"
      ]
    },
    {
      "cell_type": "markdown",
      "metadata": {},
      "source": [
        "What we can see from this is the coreference chains for each of the sentences that the Core NLP Parser is able to identify the chains, the type, gender, the animacy and whether the word is a \"isRepresentativeMention\". This helps us to make use of how the words related to each other, as well as the pertenence of this. In this case it identifies that \"Sister\" has a pertenance to Alice, and that they are related. Moreover, whenever it mentions \"her\" it relates to Alice back again.\n",
        "\n",
        "Additionally, what I find interesting is that it divides into it's own sentences even tho it is a run-on sentence. Since there are only two punctuation signs (:, ?), and it decided to split it into 3 distinct chains. \n",
        "\n",
        "In the beginning I was unsure what Coreferencing would be useful for, but now I understand that in order to translate our language into something more machine readable we need to adjust the rules that govern it. In this case, we want to show how the words relate in a given sentence and to see that we are able to identify when two or more words refer to the same thing or person. One application that I could think off would be for a Chatbot, when a \"temporal\" line needs to be followed in order to ask further follow-up questions i.e. Customer Service or Support. \n",
        "\n",
        "On the other hand, we also used the HuggingFace Coreference, here we saw that it gives a numerical value to each of the texts and creates different chains. It is passically parsing a probabilistic tree with the corresponding proababilities for a given word. The way I understood it, it would also increase the understanding of how two or more words related to one object/person/thing. "
      ]
    }
  ],
  "metadata": {
    "colab": {
      "name": "LAB9_IHLT_Session_9_Andrey_Eric.ipynb",
      "provenance": []
    },
    "kernelspec": {
      "display_name": "Python 3",
      "name": "python3"
    },
    "language_info": {
      "codemirror_mode": {
        "name": "ipython",
        "version": 3
      },
      "file_extension": ".py",
      "mimetype": "text/x-python",
      "name": "python",
      "nbconvert_exporter": "python",
      "pygments_lexer": "ipython3",
      "version": "3.8.12"
    }
  },
  "nbformat": 4,
  "nbformat_minor": 0
}
